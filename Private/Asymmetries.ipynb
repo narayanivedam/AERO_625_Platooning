{
  "nbformat": 4,
  "nbformat_minor": 0,
  "metadata": {
    "colab": {
      "provenance": [],
      "authorship_tag": "ABX9TyNEj3jsExnTG3HDJ3DgAiwX",
      "include_colab_link": true
    },
    "kernelspec": {
      "name": "python3",
      "display_name": "Python 3"
    },
    "language_info": {
      "name": "python"
    }
  },
  "cells": [
    {
      "cell_type": "markdown",
      "metadata": {
        "id": "view-in-github",
        "colab_type": "text"
      },
      "source": [
        "<a href=\"https://colab.research.google.com/github/NV2019/AERO_625_Platooning/blob/main/Asymmetries.ipynb\" target=\"_parent\"><img src=\"https://colab.research.google.com/assets/colab-badge.svg\" alt=\"Open In Colab\"/></a>"
      ]
    },
    {
      "cell_type": "markdown",
      "source": [
        "# Code to Simulate Affective Polarization for Different Asymmetries (α)"
      ],
      "metadata": {
        "id": "Wsbh31PDX3HL"
      }
    },
    {
      "cell_type": "code",
      "execution_count": 17,
      "metadata": {
        "id": "SBdFNGxn86yL"
      },
      "outputs": [],
      "source": [
        "%reset -f\n",
        "\n",
        "import numpy as np\n",
        "\n",
        "Total_Population = 1000\n",
        "# Population of Left Wing\n",
        "LW_Population = 0.5\n",
        "# Population of Right Wing\n",
        "RW_Population = 0.5\n",
        "# Total Simulation Time\n",
        "Final_Time = 50\n",
        "# Total Number of MonteCarlo Iterations\n",
        "Monte_Carlo = 100\n",
        "# Values of Asymmetry Parameter\n",
        "alpha = np.array([0,3,7,10])\n",
        "# Placeholders for Mean Values of In-Party Affect, Out-Party Affect and Affect\n",
        "Final_Mean = np.zeros((len(alpha),4,Final_Time))\n",
        "# Placeholders for Standard Deviations of In-Party Affect, Out-Party Affect and Affect \n",
        "Final_Error = np.zeros((len(alpha),4,Final_Time))\n",
        "\n",
        "for k in range(len(alpha)):\n",
        "\n",
        "  MonteCarlo = np.zeros((4,Monte_Carlo,Final_Time))\n",
        "\n",
        "  for mc in range(Monte_Carlo):\n",
        "\n",
        "    Agents = np.zeros((Total_Population,10))\n",
        "    TimeSeries_Values = np.zeros((5,Final_Time))\n",
        "\n",
        "    # Slant of an agent\n",
        "    Agents[:,0] = np.random.randint(1,3,Total_Population)\n",
        "    Agents[:,1] = np.random.randint(50,70,Total_Population)\n",
        "    Agents[:,2] = np.random.randint(30,50,Total_Population)\n",
        "\n",
        "    for t in range(Final_Time):\n",
        "\n",
        "      # Mean IPA\n",
        "      TimeSeries_Values[0,t] = np.mean(Agents[:,1])\n",
        "      #Mean OPA\n",
        "      TimeSeries_Values[1,t] = np.mean(Agents[:,2])\n",
        "      # Mean Affect\n",
        "      TimeSeries_Values[2,t] = TimeSeries_Values[0,t] - TimeSeries_Values[1,t]\n",
        "\n",
        "      # News\n",
        "      News = np.random.randint(1,3,Total_Population)\n",
        "      # Difference\n",
        "      Agents[:,3] = np.abs(Agents[:,0] - News)\n",
        "      # Updating Agents\n",
        "      Agents[:,5] = np.random.rand(Total_Population)<0.1\n",
        "      # Gain\n",
        "      Agents[:,4] = alpha[k]-10*(np.exp(2*(Agents[:,3]-0.5))-1)/(np.exp(2*(Agents[:,3]-0.5))+1)\n",
        "      Agents[Agents[:,5]==False,4] = 0\n",
        "      #New IPA\n",
        "      Agents[Agents[:,4]>0,1] += Agents[Agents[:,4]>0,4] \n",
        "      Agents[Agents[:,1]>100,1] = 100\n",
        "      #New OPA\n",
        "      Agents[Agents[:,4]<0,2] += Agents[Agents[:,4]<0,4]  \n",
        "      Agents[Agents[:,2]<0,2] = 0\n",
        "    \n",
        "    MonteCarlo[0][mc] = TimeSeries_Values[0]\n",
        "    MonteCarlo[1][mc] = TimeSeries_Values[1]\n",
        "    MonteCarlo[2][mc] = TimeSeries_Values[2]\n",
        "    MonteCarlo[3][mc] = t\n",
        "\n",
        "  Final_Mean[k][3] = int(np.round(np.mean(MonteCarlo[3],0))[0])\n",
        "  Final_Mean[k][0] = np.mean(MonteCarlo[0],0)\n",
        "  Final_Mean[k][1] = np.mean(MonteCarlo[1],0)\n",
        "  Final_Mean[k][2] = np.mean(MonteCarlo[2],0)\n",
        "\n",
        "  Final_Error[k][0] = np.std(MonteCarlo[0],0)\n",
        "  Final_Error[k][1] = np.std(MonteCarlo[1],0)\n",
        "  Final_Error[k][2] = np.std(MonteCarlo[2],0)    "
      ]
    },
    {
      "cell_type": "markdown",
      "source": [
        "# Plots for One Value of α"
      ],
      "metadata": {
        "id": "n5hjkrmbW9uG"
      }
    },
    {
      "cell_type": "code",
      "source": [
        "import matplotlib.pyplot as plt\n",
        "from matplotlib.ticker import (AutoMinorLocator, MultipleLocator)\n",
        "from matplotlib import collections as matcoll\n",
        "import seaborn as sns\n",
        "from matplotlib import style\n",
        "\n",
        "# use ggplot style sheet\n",
        "style.use('ggplot')\n",
        "fig,ax = plt.subplots(figsize=(8, 8))\n",
        "x = np.arange(0,Final_Time,step=1)\n",
        "\n",
        "# pick the index of alpha: 0=0,1=3,2=7,3=10\n",
        "alpha_index = 3\n",
        "\n",
        "plt.plot(x,Final_Mean[alpha_index][0][x],'o-',color='red',linewidth=2,linestyle='--')\n",
        "ax.fill_between(x, np.clip(Final_Mean[alpha_index][0][x]-Final_Error[alpha_index][0][x],0,np.inf), np.clip(Final_Mean[alpha_index][0][x]+Final_Error[alpha_index][0][x],0,np.inf) ,alpha=0.3, facecolor='red')\n",
        "\n",
        "plt.plot(x,Final_Mean[alpha_index][1][x],'o-',color='blue',linewidth=2,linestyle='--')\n",
        "ax.fill_between(x, np.clip(Final_Mean[alpha_index][1][x]-Final_Error[alpha_index][1][x],0,np.inf), np.clip(Final_Mean[alpha_index][1][x]+Final_Error[alpha_index][1][x],0,np.inf) ,alpha=0.3, facecolor='blue')\n",
        "\n",
        "plt.plot(x,Final_Mean[alpha_index][2][x],'o-',color='green',linewidth=2,linestyle='--')\n",
        "ax.fill_between(x, np.clip(Final_Mean[alpha_index][2][x]-Final_Error[alpha_index][2][x],0,np.inf), np.clip(Final_Mean[alpha_index][2][x]+Final_Error[alpha_index][2][x],0,np.inf) ,alpha=0.3, facecolor='green')\n",
        "\n",
        "plt.xlabel('Time Steps', fontweight='bold',fontsize=14)\n",
        "plt.ylabel('Feeling Thermometer', fontweight='bold',fontsize=14)\n",
        "plt.title('Minimum Asymmetry', fontweight='bold',fontsize=14)\n",
        "plt.xticks(np.arange(0,Final_Time+10,step=10))\n",
        "plt.legend(['IPA','OPA','Affect'],loc='center left', bbox_to_anchor=(1, 0.5),fontsize=14)\n",
        "plt.tick_params(axis='both', which='major', labelsize=14)\n",
        "plt.rcParams['figure.facecolor'] = 'ivory'\n",
        "\n",
        "Final_Mean_Min_Asymmetry = Final_Mean\n",
        "Final_Error_Min_Asymmetry = Final_Error"
      ],
      "metadata": {
        "id": "z6gfeDG-_MBy"
      },
      "execution_count": null,
      "outputs": []
    },
    {
      "cell_type": "markdown",
      "source": [
        "# Affect for all Values of α"
      ],
      "metadata": {
        "id": "kETdM0FiXIDj"
      }
    },
    {
      "cell_type": "code",
      "source": [
        "import matplotlib.pyplot as plt\n",
        "from matplotlib.ticker import (AutoMinorLocator, MultipleLocator)\n",
        "from matplotlib import collections as matcoll\n",
        "import seaborn as sns\n",
        "from matplotlib import style\n",
        "\n",
        "# use ggplot style sheet\n",
        "style.use('ggplot')\n",
        "fig,ax = plt.subplots(figsize=(8, 8))\n",
        "x = np.arange(0,Final_Time,step=1)\n",
        "\n",
        "# pick the index of alpha: set to 0\n",
        "alpha_index = 0\n",
        "\n",
        "plt.plot(x,Final_Mean[alpha_index][2][x],'o-',color='red',linewidth=2,linestyle='--')\n",
        "ax.fill_between(x, np.clip(Final_Mean[alpha_index][2][x]-Final_Error[alpha_index][2][x],0,np.inf), np.clip(Final_Mean[alpha_index][2][x]+Final_Error[alpha_index][2][x],0,np.inf) ,alpha=0.3, facecolor='red')\n",
        "\n",
        "plt.plot(x,Final_Mean[alpha_index+1][2][x],'o-',color='blue',linewidth=2,linestyle='--')\n",
        "ax.fill_between(x, np.clip(Final_Mean[alpha_index+1][2][x]-Final_Error[alpha_index+1][2][x],0,np.inf), np.clip(Final_Mean[alpha_index+1][2][x]+Final_Error[alpha_index+1][2][x],0,np.inf) ,alpha=0.3, facecolor='blue')\n",
        "\n",
        "plt.plot(x,Final_Mean[alpha_index+2][2][x],'o-',color='green',linewidth=2,linestyle='--')\n",
        "ax.fill_between(x, np.clip(Final_Mean[alpha_index+2][2][x]-Final_Error[alpha_index+2][2][x],0,np.inf), np.clip(Final_Mean[alpha_index+2][2][x]+Final_Error[alpha_index+2][2][x],0,np.inf) ,alpha=0.3, facecolor='green')\n",
        "\n",
        "plt.plot(x,Final_Mean[alpha_index+3][2][x],'o-',color='black',linewidth=2,linestyle='--')\n",
        "ax.fill_between(x, np.clip(Final_Mean[alpha_index+3][2][x]-Final_Error[alpha_index+3][2][x],0,np.inf), np.clip(Final_Mean[alpha_index+3][2][x]+Final_Error[alpha_index+3][2][x],0,np.inf) ,alpha=0.3, facecolor='black')\n",
        "\n",
        "plt.xlabel('Time Steps', fontweight='bold',fontsize=14)\n",
        "plt.ylabel('Affective Polarization', fontweight='bold',fontsize=14)\n",
        "plt.title('Minimum Asymmetry', fontweight='bold',fontsize=14)\n",
        "plt.xticks(np.arange(0,Final_Time+10,step=10))\n",
        "plt.legend(['IPA','OPA','Affect'],loc='center left', bbox_to_anchor=(1, 0.5),fontsize=14)\n",
        "plt.tick_params(axis='both', which='major', labelsize=14)\n",
        "plt.rcParams['figure.facecolor'] = 'ivory'\n"
      ],
      "metadata": {
        "id": "jbAsCu5GTYMK"
      },
      "execution_count": null,
      "outputs": []
    }
  ]
}
